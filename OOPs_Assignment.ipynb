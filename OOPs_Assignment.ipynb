{
  "nbformat": 4,
  "nbformat_minor": 0,
  "metadata": {
    "colab": {
      "provenance": []
    },
    "kernelspec": {
      "name": "python3",
      "display_name": "Python 3"
    },
    "language_info": {
      "name": "python"
    }
  },
  "cells": [
    {
      "cell_type": "code",
      "execution_count": null,
      "metadata": {
        "id": "-XCdP4VjHI3i"
      },
      "outputs": [],
      "source": []
    },
    {
      "cell_type": "markdown",
      "source": [
        "# **THEORY QUESTIONS**"
      ],
      "metadata": {
        "id": "zGXtjL1RHOFR"
      }
    },
    {
      "cell_type": "markdown",
      "source": [
        "#1. What is Object-Oriented Programming (OOP)?\n",
        "\"\"\"Object-Oriented Programming (OOP) is a way of writing programs using objects, which combine data (attributes) and actions (methods) in one place.\n",
        "We create classes as blueprints, and objects as real examples of those blueprints.\n",
        "It helps make code easier to understand, reuse, and maintain.\n",
        "Key ideas include encapsulation, inheritance, polymorphism, and abstraction.\"\"\""
      ],
      "metadata": {
        "id": "cUHztN7jHYWD"
      }
    },
    {
      "cell_type": "markdown",
      "source": [
        "#2. What is a class in OOP?\n",
        "\"\"\"In OOP, a class is like a blueprint or template used to create objects.\n",
        "It defines the attributes (data) and methods (functions) that the objects will have.\n",
        "Objects made from the same class share the same structure but can hold different values.\"\"\"\n"
      ],
      "metadata": {
        "id": "9wLc_hukHvpn"
      }
    },
    {
      "cell_type": "markdown",
      "source": [
        "#3. What is an object in OOP?\n",
        "\"\"\"In OOP, an object is a real-world example created from a class.\n",
        "It contains its own data and can perform actions defined by the class.\n",
        "Different objects from the same class can have different values for their data.\n",
        "\"\"\""
      ],
      "metadata": {
        "id": "VIVBHYXOIB5l"
      }
    },
    {
      "cell_type": "markdown",
      "source": [
        "#4. What is the difference between abstraction and encapsulation?\n",
        "\"\"\"Abstraction is the process of showing only the essential details of something while hiding the complex parts, focusing on what an object does rather than how it does it.\n",
        "Encapsulation is the process of bundling data and the methods that operate on it into a single unit and restricting direct access to some parts of the object to protect the data.\n",
        "\"\"\""
      ],
      "metadata": {
        "id": "ScrmhQj1IQMM"
      }
    },
    {
      "cell_type": "markdown",
      "source": [
        "#5. What are dunder methods in Python?\n",
        "\"\"\"Dunder methods in Python are special methods whose names start and end with double underscores, such as **init** or **str**.\n",
        "They are used to define how objects of a class behave in certain situations, like creation, printing, or comparison.\n",
        "They allow us to customize the built-in operations for our own classes.\n",
        "\"\"\""
      ],
      "metadata": {
        "id": "7sWut9CQIYHJ"
      }
    },
    {
      "cell_type": "markdown",
      "source": [
        "#6. Explain the concept of inheritance in OOP\n",
        "\"\"\"Inheritance in OOP is the process where one class can take on the properties and methods of another class.\n",
        "The class that is inherited from is called the parent or base class, and the class that inherits is called the child or derived class.\n",
        "It helps in reusing existing code and allows the child class to add or modify features without rewriting everything.\n",
        "\"\"\""
      ],
      "metadata": {
        "id": "V6Mirk-gImCp"
      }
    },
    {
      "cell_type": "markdown",
      "source": [
        "#7. What is polymorphism in OOP?\n",
        "\"\"\"Polymorphism in OOP is the ability to use the same function or method name for different types of objects, and each object can respond in its own way.\n",
        "It allows the same action to work differently depending on the object it is applied to, making code more flexible and reusable.\n",
        "\"\"\""
      ],
      "metadata": {
        "id": "jyMz7YFlItLX"
      }
    },
    {
      "cell_type": "markdown",
      "source": [
        "# 8. How is encapsulation achieved in Python?\n",
        "\"\"\"Encapsulation in Python is achieved by bundling data and methods inside a class and controlling access to them.\n",
        "We use public, protected, and private access modifiers to set the level of accessibility.\n",
        "In Python, a single underscore before a name indicates protected members, and a double underscore indicates private members.\n",
        "\"\"\""
      ],
      "metadata": {
        "id": "pnMGxa0SI2D1"
      }
    },
    {
      "cell_type": "markdown",
      "source": [
        "#9.  What is a constructor in Python?\n",
        "\"\"\"A constructor in Python is a special method used to initialize objects when they are created from a class.\n",
        "It is defined using the **init** method and automatically runs when a new object is made.\n",
        "Constructors are used to set initial values for the object’s attributes.\n",
        "\"\"\""
      ],
      "metadata": {
        "id": "nC8fS9qRI9ZI"
      }
    },
    {
      "cell_type": "markdown",
      "source": [
        "#10. What are class and static methods in Python?\n",
        "\"\"\"Class methods in Python are methods that work with the class itself rather than individual objects, and they are defined using the @classmethod decorator with the first parameter as cls.\n",
        "Static methods are methods that do not depend on the class or object for data, and they are defined using the @staticmethod decorator without needing self or cls as a parameter.\n",
        "\"\"\""
      ],
      "metadata": {
        "id": "3XNUk419JKom"
      }
    },
    {
      "cell_type": "markdown",
      "source": [
        "#11. What is method overloading in Python?\n",
        "\"\"\"Method overloading in Python is the ability to define multiple methods with the same name but different parameters.\n",
        "Python does not support traditional method overloading like some other languages, but it can be achieved by using default parameter values or by handling different numbers of arguments inside a single method.\n",
        "\"\"\""
      ],
      "metadata": {
        "id": "h1UYNPK2JWBF"
      }
    },
    {
      "cell_type": "markdown",
      "source": [
        "#12. What is method overriding in OOP?\n",
        "\"\"\"Method overriding in OOP is when a child class provides its own version of a method that is already defined in its parent class.\n",
        "The overridden method in the child class replaces the parent class’s version when called from the child class object.\n",
        "It is mainly used to change or extend the functionality of inherited methods.\n",
        "\"\"\""
      ],
      "metadata": {
        "id": "bsBaT6KHJdDZ"
      }
    },
    {
      "cell_type": "markdown",
      "source": [
        "#13. What is a property decorator in Python?\n",
        "\"\"\"A property decorator in Python is used to define methods in a class that can be accessed like attributes without using parentheses.\n",
        "It is created using the @property decorator and is often used to control access to instance variables or to add logic when getting their values.\n",
        "It helps in implementing getter, setter, and deleter functionality in a clean way.\n",
        "\"\"\""
      ],
      "metadata": {
        "id": "s5-yz0GBJk9z"
      }
    },
    {
      "cell_type": "markdown",
      "source": [
        "#14. Why is polymorphism important in OOP?\n",
        "\"\"\"Polymorphism is important in OOP because it allows the same interface or method name to work with different types of objects, making programs more flexible and easier to extend.\n",
        "It helps in writing code that can handle different data types and objects without knowing their exact classes, improving reusability and maintainability.\n",
        "\"\"\""
      ],
      "metadata": {
        "id": "CbYI9S1oJtdU"
      }
    },
    {
      "cell_type": "markdown",
      "source": [
        "#15. What is an abstract class in Python?\n",
        "\"\"\"An abstract class in Python is a class that cannot be directly instantiated and is meant to be a blueprint for other classes.\n",
        "It can have abstract methods, which are methods declared but not implemented, and must be implemented by subclasses.\n",
        "Abstract classes are created using the abc module with the ABC class and the @abstractmethod decorator.\n",
        "\"\"\""
      ],
      "metadata": {
        "id": "po_HuhhdJ0WF"
      }
    },
    {
      "cell_type": "markdown",
      "source": [
        "#16. What are the advantages of OOP?\n",
        "\"\"\"The advantages of OOP are:\n",
        "\n",
        "* It makes code easier to understand and maintain by organizing it into classes and objects.\n",
        "* It allows code reuse through inheritance, reducing duplication.\n",
        "* It improves flexibility with polymorphism, letting the same interface work for different types.\n",
        "* It enhances security and control over data using encapsulation.\n",
        "* It makes large and complex programs easier to manage by breaking them into smaller, logical parts.\n",
        "\"\"\""
      ],
      "metadata": {
        "id": "9RdcwF0_KF23"
      }
    },
    {
      "cell_type": "markdown",
      "source": [
        "#17. What is the difference between a class variable and an instance variable?\n",
        "\"\"\"A class variable is shared by all objects of a class, meaning any change to it affects all instances.\n",
        "An instance variable belongs to a specific object, so each object can have its own separate value for that variable.\n",
        "Class variables are defined inside the class but outside any method, while instance variables are usually defined inside the constructor using self.\n",
        "\"\"\""
      ],
      "metadata": {
        "id": "ptYC8t1pKNYM"
      }
    },
    {
      "cell_type": "markdown",
      "source": [
        "#18. What is multiple inheritance in Python?\n",
        "\"\"\"Multiple inheritance in Python is when a class inherits features from more than one parent class.\n",
        "It allows the child class to access attributes and methods from all its parent classes.\n",
        "Python handles method conflicts in multiple inheritance using the Method Resolution Order (MRO).\n",
        "\"\"\""
      ],
      "metadata": {
        "id": "WDoGkNJCKXE_"
      }
    },
    {
      "cell_type": "markdown",
      "source": [
        "#19. Explain the purpose of ‘’__str__’ and ‘__repr__’ ‘ methods in Python\n",
        "\"\"\"The **str** method in Python returns a readable and user-friendly string representation of an object, mainly for display to end users.\n",
        "The **repr** method returns an unambiguous string representation of an object, mainly for debugging, and it should ideally be a string that could recreate the object if passed to eval.\n",
        "If both are defined, **str** is used when printing an object, while **repr** is used in the interpreter or when **str** is not defined.\n",
        "\"\"\""
      ],
      "metadata": {
        "id": "nY8b9cdhKdwm"
      }
    },
    {
      "cell_type": "markdown",
      "source": [
        "#20. What is the significance of the ‘super()’ function in Python?\n",
        "\"\"\"The super function in Python is used to call methods from a parent class inside a child class.\n",
        "It is commonly used to run the parent class constructor or other methods so that the child class can extend or modify their behavior without rewriting them.\n",
        "It helps in maintaining cleaner code and supports multiple inheritance by following the method resolution order.\n",
        "\"\"\""
      ],
      "metadata": {
        "id": "QMt5gBNfK1EG"
      }
    },
    {
      "cell_type": "markdown",
      "source": [
        "#21. What is the significance of the __del__ method in Python?\n",
        "\"\"\"The del method in Python is called when an object is about to be destroyed.\n",
        "It is mainly used to perform cleanup tasks like closing files or releasing resources before the object is removed from memory.\n",
        "It runs automatically when the object’s reference count drops to zero or when it is explicitly deleted using the del statement.\n",
        "\"\"\""
      ],
      "metadata": {
        "id": "ZpaU5lrgK_kA"
      }
    },
    {
      "cell_type": "markdown",
      "source": [
        "#22. What is the difference between @staticmethod and @classmethod in Python?\n",
        "\"\"\"A static method does not use the class or instance data and is defined with the @staticmethod decorator. It behaves like a regular function but belongs to the class’s namespace.\n",
        "\n",
        "A class method works with the class itself rather than its objects and is defined with the @classmethod decorator. It takes the class as its first parameter, usually named cls, and can modify class-level variables.\n",
        "\"\"\""
      ],
      "metadata": {
        "id": "hrxgx-6SLkI3"
      }
    },
    {
      "cell_type": "markdown",
      "source": [
        "#23. How does polymorphism work in Python with inheritance?\n",
        "\"\"\"Polymorphism in Python with inheritance works by allowing a child class to provide its own version of a method that already exists in the parent class.\n",
        "When an object of the child class is used, the overridden method in the child class is called instead of the one in the parent class.\n",
        "This lets the same method name perform different actions depending on the type of object calling it.\n",
        "\"\"\""
      ],
      "metadata": {
        "id": "E78V5kc5LuxE"
      }
    },
    {
      "cell_type": "markdown",
      "source": [
        "#24. What is method chaining in Python OOP?\n",
        "\"\"Method chaining in Python OOP is the practice of calling multiple methods on the same object in a single line.\n",
        "Each method in the chain returns the object itself, usually by returning self, so that the next method can be called directly.\n",
        "It helps make code more concise and readable.\n",
        "\"\"\""
      ],
      "metadata": {
        "id": "FhkusRY_L5LE"
      }
    },
    {
      "cell_type": "markdown",
      "source": [
        "#25. What is the purpose of the __call__ method in Python?\n",
        "\"\"\"The call method in Python allows an object to be called like a function.\n",
        "When this method is defined in a class, we can use the object followed by parentheses to execute the code inside call.\n",
        "It is often used to make objects behave like functions or to implement callable classes.\n",
        "\"\""
      ],
      "metadata": {
        "id": "DzpvIXeJMCRu"
      }
    },
    {
      "cell_type": "markdown",
      "source": [
        "#**PRACTICAL QUESTIONS**"
      ],
      "metadata": {
        "id": "IJe4mciOMKzQ"
      }
    },
    {
      "cell_type": "markdown",
      "source": [
        "#1. Create a parent class Animal with a method speak() that prints a generic message. Create a child class Dog that overrides the speak() method to print \"Bark!\"."
      ],
      "metadata": {
        "id": "4V5YbctYMOhB"
      }
    },
    {
      "cell_type": "code",
      "source": [
        "# Parent class\n",
        "class Animal:\n",
        "    def speak(self):\n",
        "        print(\"This animal makes a sound.\")\n",
        "\n",
        "# Child class\n",
        "class Dog(Animal):\n",
        "    def speak(self):\n",
        "        print(\"Bark!\")\n",
        "\n",
        "# Create objects\n",
        "a = Animal()\n",
        "d = Dog()\n",
        "\n",
        "# Call methods\n",
        "a.speak()  # Parent class method\n",
        "d.speak()  # Child class overridden method\n"
      ],
      "metadata": {
        "colab": {
          "base_uri": "https://localhost:8080/"
        },
        "id": "zsQ-WROwM0Tn",
        "outputId": "8e6abdec-897d-4b26-8756-8892fd4717fc"
      },
      "execution_count": 1,
      "outputs": [
        {
          "output_type": "stream",
          "name": "stdout",
          "text": [
            "This animal makes a sound.\n",
            "Bark!\n"
          ]
        }
      ]
    },
    {
      "cell_type": "markdown",
      "source": [
        "#2. Write a program to create an abstract class Shape with a method area(). Derive classes Circle and Rectangle from it and implement the area() method in both."
      ],
      "metadata": {
        "id": "4v226BucM5EL"
      }
    },
    {
      "cell_type": "code",
      "source": [
        "from abc import ABC, abstractmethod\n",
        "\n",
        "# Abstract class\n",
        "class Shape(ABC):\n",
        "    @abstractmethod\n",
        "    def area(self):\n",
        "        pass\n",
        "\n",
        "# Circle class\n",
        "class Circle(Shape):\n",
        "    def __init__(self, radius):\n",
        "        self.radius = radius\n",
        "\n",
        "    def area(self):\n",
        "        return 3.14 * self.radius * self.radius\n",
        "\n",
        "# Rectangle class\n",
        "class Rectangle(Shape):\n",
        "    def __init__(self, width, height):\n",
        "        self.width = width\n",
        "        self.height = height\n",
        "\n",
        "    def area(self):\n",
        "        return self.width * self.height\n",
        "\n",
        "# Create objects\n",
        "c = Circle(5)\n",
        "r = Rectangle(4, 6)\n",
        "\n",
        "# Print areas\n",
        "print(\"Circle area:\", c.area())\n",
        "print(\"Rectangle area:\", r.area())\n"
      ],
      "metadata": {
        "colab": {
          "base_uri": "https://localhost:8080/"
        },
        "id": "xRtygkpTNHy3",
        "outputId": "b277418e-38e6-4159-c347-30f436946a42"
      },
      "execution_count": 3,
      "outputs": [
        {
          "output_type": "stream",
          "name": "stdout",
          "text": [
            "Circle area: 78.5\n",
            "Rectangle area: 24\n"
          ]
        }
      ]
    },
    {
      "cell_type": "markdown",
      "source": [
        "#3. Implement a multi-level inheritance scenario where a class Vehicle has an attribute type. Derive a class Car and further derive a class ElectricCar that adds a battery attribute."
      ],
      "metadata": {
        "id": "E3DXVCUfNYao"
      }
    },
    {
      "cell_type": "code",
      "source": [
        "# Parent class\n",
        "class Vehicle:\n",
        "    def __init__(self, vehicle_type):\n",
        "        self.type = vehicle_type\n",
        "\n",
        "# Child class\n",
        "class Car(Vehicle):\n",
        "    def __init__(self, vehicle_type, brand):\n",
        "        super().__init__(vehicle_type)\n",
        "        self.brand = brand\n",
        "\n",
        "# Grandchild class\n",
        "class ElectricCar(Car):\n",
        "    def __init__(self, vehicle_type, brand, battery_capacity):\n",
        "        super().__init__(vehicle_type, brand)\n",
        "        self.battery = battery_capacity\n",
        "\n",
        "# Create object\n",
        "ecar = ElectricCar(\"Four-wheeler\", \"Tesla\", \"75 kWh\")\n",
        "\n",
        "# Print details\n",
        "print(\"Type:\", ecar.type)\n",
        "print(\"Brand:\", ecar.brand)\n",
        "print(\"Battery:\", ecar.battery)\n"
      ],
      "metadata": {
        "colab": {
          "base_uri": "https://localhost:8080/"
        },
        "id": "g8RL4vG8N00v",
        "outputId": "98cd6c14-e0a2-48fd-a6eb-a142b86886bd"
      },
      "execution_count": 4,
      "outputs": [
        {
          "output_type": "stream",
          "name": "stdout",
          "text": [
            "Type: Four-wheeler\n",
            "Brand: Tesla\n",
            "Battery: 75 kWh\n"
          ]
        }
      ]
    },
    {
      "cell_type": "markdown",
      "source": [
        "#4. Demonstrate polymorphism by creating a base class Bird with a method fly(). Create two derived classes Sparrow and Penguin that override the fly() method.\n"
      ],
      "metadata": {
        "id": "k_zcOSeqN4fZ"
      }
    },
    {
      "cell_type": "code",
      "source": [
        "# Base class\n",
        "class Bird:\n",
        "    def fly(self):\n",
        "        print(\"This bird can fly.\")\n",
        "\n",
        "# Derived class 1\n",
        "class Sparrow(Bird):\n",
        "    def fly(self):\n",
        "        print(\"Sparrow is flying high.\")\n",
        "\n",
        "# Derived class 2\n",
        "class Penguin(Bird):\n",
        "    def fly(self):\n",
        "        print(\"Penguins cannot fly.\")\n",
        "\n",
        "# Function to demonstrate polymorphism\n",
        "def show_flight(bird):\n",
        "    bird.fly()\n",
        "\n",
        "# Create objects\n",
        "sparrow = Sparrow()\n",
        "penguin = Penguin()\n",
        "\n",
        "# Call the same method on different objects\n",
        "show_flight(sparrow)\n",
        "show_flight(penguin)\n"
      ],
      "metadata": {
        "colab": {
          "base_uri": "https://localhost:8080/"
        },
        "id": "3F878G8ON8fS",
        "outputId": "bd6e1e5b-3dbb-43e1-f239-31c80050d8dc"
      },
      "execution_count": 5,
      "outputs": [
        {
          "output_type": "stream",
          "name": "stdout",
          "text": [
            "Sparrow is flying high.\n",
            "Penguins cannot fly.\n"
          ]
        }
      ]
    },
    {
      "cell_type": "markdown",
      "source": [
        "#5.  Write a program to demonstrate encapsulation by creating a class BankAccount with private attributes balance and methods to deposit, withdraw, and check balance."
      ],
      "metadata": {
        "id": "rcrJSYrfOAc5"
      }
    },
    {
      "cell_type": "code",
      "source": [
        "class BankAccount:\n",
        "    def __init__(self, initial_balance):\n",
        "        self.__balance = initial_balance  # private attribute\n",
        "\n",
        "    def deposit(self, amount):\n",
        "        if amount > 0:\n",
        "            self.__balance += amount\n",
        "            print(f\"Deposited {amount}\")\n",
        "        else:\n",
        "            print(\"Deposit amount must be positive.\")\n",
        "\n",
        "    def withdraw(self, amount):\n",
        "        if 0 < amount <= self.__balance:\n",
        "            self.__balance -= amount\n",
        "            print(f\"Withdrew {amount}\")\n",
        "        else:\n",
        "            print(\"Insufficient balance or invalid amount.\")\n",
        "\n",
        "    def check_balance(self):\n",
        "        print(f\"Current balance: {self.__balance}\")\n",
        "\n",
        "# Create object\n",
        "account = BankAccount(1000)\n",
        "\n",
        "# Use methods\n",
        "account.deposit(500)\n",
        "account.withdraw(300)\n",
        "account.check_balance()\n",
        "\n",
        "# Direct access will fail (private)\n",
        "# print(account.__balance)  # This will give an error\n"
      ],
      "metadata": {
        "colab": {
          "base_uri": "https://localhost:8080/"
        },
        "id": "PPgPOiYGN_VP",
        "outputId": "87df8fa0-6aad-45ea-f109-936042e8cf22"
      },
      "execution_count": 6,
      "outputs": [
        {
          "output_type": "stream",
          "name": "stdout",
          "text": [
            "Deposited 500\n",
            "Withdrew 300\n",
            "Current balance: 1200\n"
          ]
        }
      ]
    },
    {
      "cell_type": "markdown",
      "source": [
        "#6. Demonstrate runtime polymorphism using a method play() in a base class Instrument. Derive classes Guitar and Piano that implement their own version of play()."
      ],
      "metadata": {
        "id": "fBf4kpvMONZM"
      }
    },
    {
      "cell_type": "code",
      "source": [
        "# Base class\n",
        "class Instrument:\n",
        "    def play(self):\n",
        "        print(\"This instrument makes a sound.\")\n",
        "\n",
        "# Derived class 1\n",
        "class Guitar(Instrument):\n",
        "    def play(self):\n",
        "        print(\"Guitar is playing strings.\")\n",
        "\n",
        "# Derived class 2\n",
        "class Piano(Instrument):\n",
        "    def play(self):\n",
        "        print(\"Piano is playing keys.\")\n",
        "\n",
        "# Function to demonstrate runtime polymorphism\n",
        "def start_playing(instrument):\n",
        "    instrument.play()\n",
        "\n",
        "# Create objects\n",
        "g = Guitar()\n",
        "p = Piano()\n",
        "\n",
        "# Call the same method on different objects at runtime\n",
        "start_playing(g)\n",
        "start_playing(p)\n"
      ],
      "metadata": {
        "colab": {
          "base_uri": "https://localhost:8080/"
        },
        "id": "tTR6UdG4OMP6",
        "outputId": "471067b5-2002-4b13-bc03-7c0e45c4fe4e"
      },
      "execution_count": 7,
      "outputs": [
        {
          "output_type": "stream",
          "name": "stdout",
          "text": [
            "Guitar is playing strings.\n",
            "Piano is playing keys.\n"
          ]
        }
      ]
    },
    {
      "cell_type": "markdown",
      "source": [
        "#7. Create a class MathOperations with a class method add_numbers() to add two numbers and a static method subtract_numbers() to subtract two numbers."
      ],
      "metadata": {
        "id": "VGqCdVhIOWzF"
      }
    },
    {
      "cell_type": "code",
      "source": [
        "class MathOperations:\n",
        "    @classmethod\n",
        "    def add_numbers(cls, a, b):\n",
        "        return a + b\n",
        "\n",
        "    @staticmethod\n",
        "    def subtract_numbers(a, b):\n",
        "        return a - b\n",
        "\n",
        "# Using class method\n",
        "sum_result = MathOperations.add_numbers(5, 3)\n",
        "print(\"Sum:\", sum_result)\n",
        "\n",
        "# Using static method\n",
        "sub_result = MathOperations.subtract_numbers(10, 4)\n",
        "print(\"Difference:\", sub_result)\n"
      ],
      "metadata": {
        "colab": {
          "base_uri": "https://localhost:8080/"
        },
        "id": "Z7gJkrV0OV9b",
        "outputId": "c61e6535-8d4c-45eb-cfba-a4ea976415fe"
      },
      "execution_count": 8,
      "outputs": [
        {
          "output_type": "stream",
          "name": "stdout",
          "text": [
            "Sum: 8\n",
            "Difference: 6\n"
          ]
        }
      ]
    },
    {
      "cell_type": "code",
      "source": [],
      "metadata": {
        "id": "p04WFufjOip2"
      },
      "execution_count": null,
      "outputs": []
    },
    {
      "cell_type": "markdown",
      "source": [
        "#8. Implement a class Person with a class method to count the total number of persons created."
      ],
      "metadata": {
        "id": "JqEt5bkTOjaK"
      }
    },
    {
      "cell_type": "code",
      "source": [
        "class Person:\n",
        "    count = 0  # class variable to track number of persons\n",
        "\n",
        "    def __init__(self, name):\n",
        "        self.name = name\n",
        "        Person.count += 1\n",
        "\n",
        "    @classmethod\n",
        "    def total_persons(cls):\n",
        "        return cls.count\n",
        "\n",
        "# Create objects\n",
        "p1 = Person(\"Raj\")\n",
        "p2 = Person(\"Rahul\")\n",
        "p3 = Person(\"Sana\")\n",
        "\n",
        "# Show total persons created\n",
        "print(\"Total persons created:\", Person.total_persons())\n"
      ],
      "metadata": {
        "colab": {
          "base_uri": "https://localhost:8080/"
        },
        "id": "j4AcjWBkOmwe",
        "outputId": "069b9600-d630-4d98-bd06-42e549607422"
      },
      "execution_count": 9,
      "outputs": [
        {
          "output_type": "stream",
          "name": "stdout",
          "text": [
            "Total persons created: 3\n"
          ]
        }
      ]
    },
    {
      "cell_type": "markdown",
      "source": [
        "#9. Write a class Fraction with attributes numerator and denominator. Override the str method to display the fraction as \"numerator/denominator\"."
      ],
      "metadata": {
        "id": "bmh6bQE6O1bg"
      }
    },
    {
      "cell_type": "code",
      "source": [
        "class Fraction:\n",
        "    def __init__(self, numerator, denominator):\n",
        "        self.numerator = numerator\n",
        "        self.denominator = denominator\n",
        "\n",
        "    def __str__(self):\n",
        "        return f\"{self.numerator}/{self.denominator}\"\n",
        "\n",
        "# Create object\n",
        "f = Fraction(3, 4)\n",
        "\n",
        "# Print fraction\n",
        "print(f)\n"
      ],
      "metadata": {
        "colab": {
          "base_uri": "https://localhost:8080/"
        },
        "id": "ZRn-gXjyO6VX",
        "outputId": "8eb01216-95e2-471f-8e60-ffd6507f0b47"
      },
      "execution_count": 10,
      "outputs": [
        {
          "output_type": "stream",
          "name": "stdout",
          "text": [
            "3/4\n"
          ]
        }
      ]
    },
    {
      "cell_type": "code",
      "source": [],
      "metadata": {
        "id": "KY_68D0IO9xs"
      },
      "execution_count": null,
      "outputs": []
    },
    {
      "cell_type": "markdown",
      "source": [
        "#10.Demonstrate operator overloading by creating a class Vector and overriding the add method to add two vectors."
      ],
      "metadata": {
        "id": "hQF7OUa3O-nW"
      }
    },
    {
      "cell_type": "code",
      "source": [
        "class Vector:\n",
        "    def __init__(self, x, y):\n",
        "        self.x = x\n",
        "        self.y = y\n",
        "\n",
        "    def __add__(self, other):\n",
        "        return Vector(self.x + other.x, self.y + other.y)\n",
        "\n",
        "    def __str__(self):\n",
        "        return f\"({self.x}, {self.y})\"\n",
        "\n",
        "# Create two vectors\n",
        "v1 = Vector(2, 3)\n",
        "v2 = Vector(4, 5)\n",
        "\n",
        "# Add the vectors\n",
        "v3 = v1 + v2\n",
        "\n",
        "# Print result\n",
        "print(v3)\n"
      ],
      "metadata": {
        "colab": {
          "base_uri": "https://localhost:8080/"
        },
        "id": "tYiHs2dNPD18",
        "outputId": "1f89f074-c288-4407-84f2-0b4fe2b91d2a"
      },
      "execution_count": 11,
      "outputs": [
        {
          "output_type": "stream",
          "name": "stdout",
          "text": [
            "(6, 8)\n"
          ]
        }
      ]
    },
    {
      "cell_type": "code",
      "source": [],
      "metadata": {
        "id": "wOVwmqvCPHE3"
      },
      "execution_count": null,
      "outputs": []
    },
    {
      "cell_type": "markdown",
      "source": [
        "#11.  Create a class Person with attributes name and age. Add a method greet() that prints \"Hello, my name is {name} and I am {age} years old.\""
      ],
      "metadata": {
        "id": "dggWGd0jPH5S"
      }
    },
    {
      "cell_type": "code",
      "source": [
        "class Person:\n",
        "    def __init__(self, name, age):\n",
        "        self.name = name\n",
        "        self.age = age\n",
        "\n",
        "    def greet(self):\n",
        "        print(f\"Hello, my name is {self.name} and I am {self.age} years old.\")\n",
        "\n",
        "# Create object\n",
        "p = Person(\"Rahul\", 29)\n",
        "\n",
        "# Call method\n",
        "p.greet()\n"
      ],
      "metadata": {
        "colab": {
          "base_uri": "https://localhost:8080/"
        },
        "id": "ePXIw5eCPLO-",
        "outputId": "a979bbf6-e17e-435d-ea7e-63982b9a135c"
      },
      "execution_count": 13,
      "outputs": [
        {
          "output_type": "stream",
          "name": "stdout",
          "text": [
            "Hello, my name is Rahul and I am 29 years old.\n"
          ]
        }
      ]
    },
    {
      "cell_type": "markdown",
      "source": [
        "#12.  Implement a class Student with attributes name and grades. Create a method average_grade() to compute the average of the grades."
      ],
      "metadata": {
        "id": "MLw77BnsPbGl"
      }
    },
    {
      "cell_type": "code",
      "source": [
        "class Student:\n",
        "    def __init__(self, name, grades):\n",
        "        self.name = name\n",
        "        self.grades = grades\n",
        "\n",
        "    def average_grade(self):\n",
        "        return sum(self.grades) / len(self.grades)\n",
        "\n",
        "# Create object\n",
        "s = Student(\"Rahul\", [85, 90, 78])\n",
        "\n",
        "# Print average grade\n",
        "print(\"Average grade:\", s.average_grade())\n"
      ],
      "metadata": {
        "colab": {
          "base_uri": "https://localhost:8080/"
        },
        "id": "2PbbTwrYPYQ-",
        "outputId": "78896b2e-53fb-4904-cbe1-7cd4d710e2e4"
      },
      "execution_count": 15,
      "outputs": [
        {
          "output_type": "stream",
          "name": "stdout",
          "text": [
            "Average grade: 84.33333333333333\n"
          ]
        }
      ]
    },
    {
      "cell_type": "markdown",
      "source": [
        "#13. Create a class Rectangle with methods set_dimensions() to set the dimensions and area() to calculate the area."
      ],
      "metadata": {
        "id": "kJxs2izYPpt9"
      }
    },
    {
      "cell_type": "code",
      "source": [
        "class Rectangle:\n",
        "    def set_dimensions(self, width, height):\n",
        "        self.width = width\n",
        "        self.height = height\n",
        "\n",
        "    def area(self):\n",
        "        return self.width * self.height\n",
        "\n",
        "# Create object\n",
        "rect = Rectangle()\n",
        "\n",
        "# Set dimensions\n",
        "rect.set_dimensions(5, 3)\n",
        "\n",
        "# Print area\n",
        "print(\"Area:\", rect.area())\n"
      ],
      "metadata": {
        "colab": {
          "base_uri": "https://localhost:8080/"
        },
        "id": "0yMJIh85Povh",
        "outputId": "ca1c5a3b-0ea7-4ac2-94fa-db605d9e4ef7"
      },
      "execution_count": 16,
      "outputs": [
        {
          "output_type": "stream",
          "name": "stdout",
          "text": [
            "Area: 15\n"
          ]
        }
      ]
    },
    {
      "cell_type": "code",
      "source": [],
      "metadata": {
        "id": "FckC_SBrPxol"
      },
      "execution_count": null,
      "outputs": []
    },
    {
      "cell_type": "markdown",
      "source": [
        "#14. Create a class Employee with a method calculate_salary() that computes the salary based on hours worked and hourly rate. Create a derived class Manager that adds a bonus to the salary.\n"
      ],
      "metadata": {
        "id": "nHDc4E43PySJ"
      }
    },
    {
      "cell_type": "code",
      "source": [
        "# Base class\n",
        "class Employee:\n",
        "    def calculate_salary(self, hours_worked, hourly_rate):\n",
        "        return hours_worked * hourly_rate\n",
        "\n",
        "# Derived class\n",
        "class Manager(Employee):\n",
        "    def calculate_salary(self, hours_worked, hourly_rate, bonus):\n",
        "        base_salary = super().calculate_salary(hours_worked, hourly_rate)\n",
        "        return base_salary + bonus\n",
        "\n",
        "# Create objects\n",
        "emp = Employee()\n",
        "mgr = Manager()\n",
        "\n",
        "# Calculate salaries\n",
        "print(\"Employee Salary:\", emp.calculate_salary(40, 200))\n",
        "print(\"Manager Salary:\", mgr.calculate_salary(40, 200, 5000))\n"
      ],
      "metadata": {
        "colab": {
          "base_uri": "https://localhost:8080/"
        },
        "id": "8pgLiFekP49f",
        "outputId": "10bc4cea-c8ec-4846-d3e8-3edc13bc5c98"
      },
      "execution_count": 17,
      "outputs": [
        {
          "output_type": "stream",
          "name": "stdout",
          "text": [
            "Employee Salary: 8000\n",
            "Manager Salary: 13000\n"
          ]
        }
      ]
    },
    {
      "cell_type": "markdown",
      "source": [
        "#15. Create a class Product with attributes name, price, and quantity. Implement a method total_price() that calculates the total price of the product.\n",
        "\n",
        "\n"
      ],
      "metadata": {
        "id": "ciACi_peQFAm"
      }
    },
    {
      "cell_type": "code",
      "source": [
        "class Product:\n",
        "    def __init__(self, name, price, quantity):\n",
        "        self.name = name\n",
        "        self.price = price\n",
        "        self.quantity = quantity\n",
        "\n",
        "    def total_price(self):\n",
        "        return self.price * self.quantity\n",
        "\n",
        "# Create object\n",
        "item = Product(\"Mobile\", 15000, 3)\n",
        "\n",
        "# Print total price\n",
        "print(\"Total price:\", item.total_price())\n"
      ],
      "metadata": {
        "colab": {
          "base_uri": "https://localhost:8080/"
        },
        "id": "N6qjRs_sP8bL",
        "outputId": "f8c98cdd-e56d-46bb-e90c-6a3c8231f826"
      },
      "execution_count": 18,
      "outputs": [
        {
          "output_type": "stream",
          "name": "stdout",
          "text": [
            "Total price: 45000\n"
          ]
        }
      ]
    },
    {
      "cell_type": "markdown",
      "source": [
        "#16.  Create a class Animal with an abstract method sound(). Create two derived classes Cow and Sheep that implement the sound() method."
      ],
      "metadata": {
        "id": "rKsidQyqQZMi"
      }
    },
    {
      "cell_type": "code",
      "source": [
        "from abc import ABC, abstractmethod\n",
        "\n",
        "# Abstract base class\n",
        "class Animal(ABC):\n",
        "    @abstractmethod\n",
        "    def sound(self):\n",
        "        pass\n",
        "\n",
        "# Derived class for Cow\n",
        "class Cow(Animal):\n",
        "    def sound(self):\n",
        "        print(\"Moo!\")\n",
        "\n",
        "# Derived class for Sheep\n",
        "class Sheep(Animal):\n",
        "    def sound(self):\n",
        "        print(\"Baa!\")\n",
        "\n",
        "# sound test:\n",
        "cow = Cow()\n",
        "cow.sound()\n",
        "\n",
        "sheep = Sheep()\n",
        "sheep.sound()"
      ],
      "metadata": {
        "colab": {
          "base_uri": "https://localhost:8080/"
        },
        "id": "0vyRybDVQVOJ",
        "outputId": "ed9ddf81-0c04-46a2-b49b-950dcaeb414c"
      },
      "execution_count": 20,
      "outputs": [
        {
          "output_type": "stream",
          "name": "stdout",
          "text": [
            "Moo!\n",
            "Baa!\n"
          ]
        }
      ]
    },
    {
      "cell_type": "markdown",
      "source": [
        "#17. Create a class Book with attributes title, author, and year_published. Add a method get_book_info() that returns a formatted string with the book's details."
      ],
      "metadata": {
        "id": "p6REjChqSSrQ"
      }
    },
    {
      "cell_type": "code",
      "source": [
        "class Book:\n",
        "    def __init__(self, title, author, year_published):\n",
        "        self.title = title\n",
        "        self.author = author\n",
        "        self.year_published = year_published\n",
        "\n",
        "    def get_book_info(self):\n",
        "        return f\"'{self.title}' by {self.author}, published in {self.year_published}\"\n",
        "\n",
        "# Example usage:\n",
        "my_book = Book(\"The Hitchhiker's Guide to the Galaxy\", \"Douglas Adams\", 1979)\n",
        "print(my_book.get_book_info())"
      ],
      "metadata": {
        "colab": {
          "base_uri": "https://localhost:8080/"
        },
        "id": "uzeXb1Y2SYMN",
        "outputId": "d4a64481-aca1-42a6-df89-6e7ba8134b41"
      },
      "execution_count": 21,
      "outputs": [
        {
          "output_type": "stream",
          "name": "stdout",
          "text": [
            "'The Hitchhiker's Guide to the Galaxy' by Douglas Adams, published in 1979\n"
          ]
        }
      ]
    },
    {
      "cell_type": "markdown",
      "source": [
        "#18.  Create a class House with attributes address and price. Create a derived class Mansion that adds an attribute number_of_rooms."
      ],
      "metadata": {
        "id": "IBpiyUInSnEX"
      }
    },
    {
      "cell_type": "code",
      "source": [
        "class House:\n",
        "    def __init__(self, address, price):\n",
        "        self.address = address\n",
        "        self.price = price\n",
        "\n",
        "    def display_info(self):\n",
        "        print(f\"Address: {self.address}, Price: ${self.price}\")\n",
        "\n",
        "class Mansion(House):\n",
        "    def __init__(self, address, price, number_of_rooms):\n",
        "        super().__init__(address, price)\n",
        "        self.number_of_rooms = number_of_rooms\n",
        "\n",
        "    def display_info(self):\n",
        "        super().display_info()\n",
        "        print(f\"Number of Rooms: {self.number_of_rooms}\")\n",
        "\n",
        "# Example usage:\n",
        "house = House(\"123 Main St\", 250000)\n",
        "house.display_info()\n",
        "\n",
        "print(\"-\" * 20)\n",
        "\n",
        "mansion = Mansion(\"456 Mansion Ave\", 1500000, 10)\n",
        "mansion.display_info()"
      ],
      "metadata": {
        "colab": {
          "base_uri": "https://localhost:8080/"
        },
        "id": "MyPwgIqjS0Y1",
        "outputId": "26b81266-8c42-4191-b0be-8e57b6903031"
      },
      "execution_count": 23,
      "outputs": [
        {
          "output_type": "stream",
          "name": "stdout",
          "text": [
            "Address: 123 Main St, Price: $250000\n",
            "--------------------\n",
            "Address: 456 Mansion Ave, Price: $1500000\n",
            "Number of Rooms: 10\n"
          ]
        }
      ]
    },
    {
      "cell_type": "code",
      "source": [
        "# Base class\n",
        "class House:\n",
        "    def __init__(self, address, price):\n",
        "        self.address = address\n",
        "        self.price = price\n",
        "\n",
        "    def display_info(self):\n",
        "        print(f\"Address: {self.address}\")\n",
        "        print(f\"Price: Rs {self.price}\")\n",
        "\n",
        "# Derived class\n",
        "class Mansion(House):\n",
        "    def __init__(self, address, price, number_of_rooms):\n",
        "        super().__init__(address, price)  # Call the parent constructor\n",
        "        self.number_of_rooms = number_of_rooms\n",
        "\n",
        "    def display_info(self):\n",
        "        super().display_info()  # Show base class info\n",
        "        print(f\"Number of Rooms: {self.number_of_rooms}\")\n",
        "\n",
        "# Testing the classes\n",
        "if __name__ == \"__main__\":\n",
        "    mansion = Mansion(\"Tarun Nagar, Makum\", 2500000, 12)\n",
        "    mansion.display_info()\n"
      ],
      "metadata": {
        "colab": {
          "base_uri": "https://localhost:8080/"
        },
        "id": "wJCJVk03S46N",
        "outputId": "18f5e97a-1971-4023-d607-b703652b49a7"
      },
      "execution_count": 27,
      "outputs": [
        {
          "output_type": "stream",
          "name": "stdout",
          "text": [
            "Address: Tarun Nagar, Makum\n",
            "Price: Rs 2500000\n",
            "Number of Rooms: 12\n"
          ]
        }
      ]
    },
    {
      "cell_type": "code",
      "source": [],
      "metadata": {
        "id": "Lmz37gsGS_m6"
      },
      "execution_count": null,
      "outputs": []
    }
  ]
}